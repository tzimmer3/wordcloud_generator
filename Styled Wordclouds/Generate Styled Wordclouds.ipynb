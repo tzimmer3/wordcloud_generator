{
 "cells": [
  {
   "cell_type": "code",
   "execution_count": 1,
   "metadata": {},
   "outputs": [],
   "source": [
    "# Packages\n",
    "import os\n",
    "import pandas as pd\n",
    "import stylecloud\n"
   ]
  },
  {
   "cell_type": "markdown",
   "metadata": {},
   "source": [
    "## Variables"
   ]
  },
  {
   "cell_type": "code",
   "execution_count": 2,
   "metadata": {},
   "outputs": [],
   "source": [
    "# RAW_DIRNAME = \"C:\\\\Users\\\\hlmq\\\\OneDrive - Chevron\\\\Desktop\\\\Projects\\\\Tech Abstracts\\\\\"\n",
    "# DATA_WORDCLOUDS_DIRNAME = \"data\\\\data-wordclouds\\\\archive\"\n",
    "\n",
    "\n",
    "\n",
    "# variables\n",
    "\n",
    "#=========================#\n",
    "# data\n",
    "#=========================#\n",
    "\n",
    "# Input data filepath\n",
    "RAW_DIRNAME = \"C:\\\\Users\\\\hlmq\\\\OneDrive - Chevron\\\\Desktop\\\\Projects\\\\macop_training\\\\\"\n",
    "# Input data\n",
    "filename = \"uci-news-aggregator.csv\"\n",
    "\n",
    "\n",
    "#=========================#\n",
    "# wordcloud params\n",
    "#=========================#\n",
    "\n",
    "# Field with text to generate wordcloud\n",
    "TEXT_FIELD = \"TITLE\"\n",
    "# Output filepath for wordcloud\n",
    "WORDCLOUD_OUTPUT_FILEPATH = \"C:\\\\Users\\\\hlmq\\\\OneDrive - Chevron\\\\Desktop\\\\Projects\\\\macop_training\\\\wordclouds\\\\news.png\"\n",
    "\n",
    "# COLORS\n",
    "palette = \"cartocolors.qualitative.Bold_6\"\n",
    "#palette = \"cartocolors.qualitative.Prism_7\"\n",
    "#palette = \"colorbrewer.qualitative.Set1_5\"\n",
    "#palette = \"colorbrewer.qualitative.Set1_6\"\n",
    "\n",
    "## SHAPES\n",
    "icon = \"fas fa-chart-line\"\n",
    "#icon = \"fas fa-balance-scale\"\n",
    "#icon = \"fas fa-tools\"\n",
    "#icon = \"fas fa-arrows-alt-h\"\n",
    "#icon = \"fas fa-trophy\"\n",
    "#icon = \"fas fa-award\"\n",
    "#icon = \"fas fa-forward\"\n",
    "#icon = \"fas fa-seedling\"\n",
    "#icon = \"fas fa-leaf\""
   ]
  },
  {
   "cell_type": "markdown",
   "metadata": {},
   "source": [
    "## Data Preparation\n",
    "\n",
    "Need to write out individual files -- one per graphic you would like to create"
   ]
  },
  {
   "cell_type": "code",
   "execution_count": 3,
   "metadata": {},
   "outputs": [],
   "source": [
    "df = pd.read_csv(str(RAW_DIRNAME)+str(filename))"
   ]
  },
  {
   "cell_type": "code",
   "execution_count": 4,
   "metadata": {},
   "outputs": [
    {
     "data": {
      "text/html": [
       "<div>\n",
       "<style scoped>\n",
       "    .dataframe tbody tr th:only-of-type {\n",
       "        vertical-align: middle;\n",
       "    }\n",
       "\n",
       "    .dataframe tbody tr th {\n",
       "        vertical-align: top;\n",
       "    }\n",
       "\n",
       "    .dataframe thead th {\n",
       "        text-align: right;\n",
       "    }\n",
       "</style>\n",
       "<table border=\"1\" class=\"dataframe\">\n",
       "  <thead>\n",
       "    <tr style=\"text-align: right;\">\n",
       "      <th></th>\n",
       "      <th>ID</th>\n",
       "      <th>TITLE</th>\n",
       "      <th>URL</th>\n",
       "      <th>PUBLISHER</th>\n",
       "      <th>CATEGORY</th>\n",
       "      <th>STORY</th>\n",
       "      <th>HOSTNAME</th>\n",
       "      <th>TIMESTAMP</th>\n",
       "    </tr>\n",
       "  </thead>\n",
       "  <tbody>\n",
       "    <tr>\n",
       "      <th>0</th>\n",
       "      <td>1</td>\n",
       "      <td>Fed official says weak data caused by weather,...</td>\n",
       "      <td>http://www.latimes.com/business/money/la-fi-mo...</td>\n",
       "      <td>Los Angeles Times</td>\n",
       "      <td>b</td>\n",
       "      <td>ddUyU0VZz0BRneMioxUPQVP6sIxvM</td>\n",
       "      <td>www.latimes.com</td>\n",
       "      <td>1394470370698</td>\n",
       "    </tr>\n",
       "    <tr>\n",
       "      <th>1</th>\n",
       "      <td>2</td>\n",
       "      <td>Fed's Charles Plosser sees high bar for change...</td>\n",
       "      <td>http://www.livemint.com/Politics/H2EvwJSK2VE6O...</td>\n",
       "      <td>Livemint</td>\n",
       "      <td>b</td>\n",
       "      <td>ddUyU0VZz0BRneMioxUPQVP6sIxvM</td>\n",
       "      <td>www.livemint.com</td>\n",
       "      <td>1394470371207</td>\n",
       "    </tr>\n",
       "    <tr>\n",
       "      <th>2</th>\n",
       "      <td>3</td>\n",
       "      <td>US open: Stocks fall after Fed official hints ...</td>\n",
       "      <td>http://www.ifamagazine.com/news/us-open-stocks...</td>\n",
       "      <td>IFA Magazine</td>\n",
       "      <td>b</td>\n",
       "      <td>ddUyU0VZz0BRneMioxUPQVP6sIxvM</td>\n",
       "      <td>www.ifamagazine.com</td>\n",
       "      <td>1394470371550</td>\n",
       "    </tr>\n",
       "    <tr>\n",
       "      <th>3</th>\n",
       "      <td>4</td>\n",
       "      <td>Fed risks falling 'behind the curve', Charles ...</td>\n",
       "      <td>http://www.ifamagazine.com/news/fed-risks-fall...</td>\n",
       "      <td>IFA Magazine</td>\n",
       "      <td>b</td>\n",
       "      <td>ddUyU0VZz0BRneMioxUPQVP6sIxvM</td>\n",
       "      <td>www.ifamagazine.com</td>\n",
       "      <td>1394470371793</td>\n",
       "    </tr>\n",
       "    <tr>\n",
       "      <th>4</th>\n",
       "      <td>5</td>\n",
       "      <td>Fed's Plosser: Nasty Weather Has Curbed Job Gr...</td>\n",
       "      <td>http://www.moneynews.com/Economy/federal-reser...</td>\n",
       "      <td>Moneynews</td>\n",
       "      <td>b</td>\n",
       "      <td>ddUyU0VZz0BRneMioxUPQVP6sIxvM</td>\n",
       "      <td>www.moneynews.com</td>\n",
       "      <td>1394470372027</td>\n",
       "    </tr>\n",
       "  </tbody>\n",
       "</table>\n",
       "</div>"
      ],
      "text/plain": [
       "   ID                                              TITLE  \\\n",
       "0   1  Fed official says weak data caused by weather,...   \n",
       "1   2  Fed's Charles Plosser sees high bar for change...   \n",
       "2   3  US open: Stocks fall after Fed official hints ...   \n",
       "3   4  Fed risks falling 'behind the curve', Charles ...   \n",
       "4   5  Fed's Plosser: Nasty Weather Has Curbed Job Gr...   \n",
       "\n",
       "                                                 URL          PUBLISHER  \\\n",
       "0  http://www.latimes.com/business/money/la-fi-mo...  Los Angeles Times   \n",
       "1  http://www.livemint.com/Politics/H2EvwJSK2VE6O...           Livemint   \n",
       "2  http://www.ifamagazine.com/news/us-open-stocks...       IFA Magazine   \n",
       "3  http://www.ifamagazine.com/news/fed-risks-fall...       IFA Magazine   \n",
       "4  http://www.moneynews.com/Economy/federal-reser...          Moneynews   \n",
       "\n",
       "  CATEGORY                          STORY             HOSTNAME      TIMESTAMP  \n",
       "0        b  ddUyU0VZz0BRneMioxUPQVP6sIxvM      www.latimes.com  1394470370698  \n",
       "1        b  ddUyU0VZz0BRneMioxUPQVP6sIxvM     www.livemint.com  1394470371207  \n",
       "2        b  ddUyU0VZz0BRneMioxUPQVP6sIxvM  www.ifamagazine.com  1394470371550  \n",
       "3        b  ddUyU0VZz0BRneMioxUPQVP6sIxvM  www.ifamagazine.com  1394470371793  \n",
       "4        b  ddUyU0VZz0BRneMioxUPQVP6sIxvM    www.moneynews.com  1394470372027  "
      ]
     },
     "execution_count": 4,
     "metadata": {},
     "output_type": "execute_result"
    }
   ],
   "source": [
    "df.head()"
   ]
  },
  {
   "cell_type": "markdown",
   "metadata": {},
   "source": [
    "# Word Cloud Generation\n",
    "\n"
   ]
  },
  {
   "cell_type": "markdown",
   "metadata": {},
   "source": [
    "Find other icons at fontawesome here:\n",
    "https://fontawesome.com/v5/search\n",
    "\n",
    "\n",
    "Find color palette options here:\n",
    "https://jiffyclub.github.io/palettable/colorbrewer/sequential/"
   ]
  },
  {
   "cell_type": "code",
   "execution_count": 7,
   "metadata": {},
   "outputs": [],
   "source": []
  },
  {
   "cell_type": "code",
   "execution_count": 8,
   "metadata": {},
   "outputs": [
    {
     "ename": "FileNotFoundError",
     "evalue": "[Errno 2] No such file or directory: 'C://Users//hlmq//OneDrive - Chevron//Desktop//Projects//Tech Abstracts//data//data-wordclouds//2015.txt'",
     "output_type": "error",
     "traceback": [
      "\u001b[1;31m---------------------------------------------------------------------------\u001b[0m",
      "\u001b[1;31mFileNotFoundError\u001b[0m                         Traceback (most recent call last)",
      "\u001b[1;32mc:\\Users\\hlmq\\code\\tech-abstracts\\code\\general-nlp\\Generate Wordclouds.ipynb Cell 11\u001b[0m line \u001b[0;36m3\n\u001b[0;32m      <a href='vscode-notebook-cell:/c%3A/Users/hlmq/code/tech-abstracts/code/general-nlp/Generate%20Wordclouds.ipynb#X13sZmlsZQ%3D%3D?line=0'>1</a>\u001b[0m file_path \u001b[39m=\u001b[39m \u001b[39mf\u001b[39m\u001b[39m\"\u001b[39m\u001b[39mC://Users//hlmq//OneDrive - Chevron//Desktop//Projects//Tech Abstracts//data//data-wordclouds//\u001b[39m\u001b[39m{\u001b[39;00myear\u001b[39m}\u001b[39;00m\u001b[39m.txt\u001b[39m\u001b[39m\"\u001b[39m\n\u001b[1;32m----> <a href='vscode-notebook-cell:/c%3A/Users/hlmq/code/tech-abstracts/code/general-nlp/Generate%20Wordclouds.ipynb#X13sZmlsZQ%3D%3D?line=2'>3</a>\u001b[0m stylecloud\u001b[39m.\u001b[39;49mgen_stylecloud(file_path\u001b[39m=\u001b[39;49mfile_path,\n\u001b[0;32m      <a href='vscode-notebook-cell:/c%3A/Users/hlmq/code/tech-abstracts/code/general-nlp/Generate%20Wordclouds.ipynb#X13sZmlsZQ%3D%3D?line=3'>4</a>\u001b[0m                           icon_name\u001b[39m=\u001b[39;49micon,\n\u001b[0;32m      <a href='vscode-notebook-cell:/c%3A/Users/hlmq/code/tech-abstracts/code/general-nlp/Generate%20Wordclouds.ipynb#X13sZmlsZQ%3D%3D?line=4'>5</a>\u001b[0m \n\u001b[0;32m      <a href='vscode-notebook-cell:/c%3A/Users/hlmq/code/tech-abstracts/code/general-nlp/Generate%20Wordclouds.ipynb#X13sZmlsZQ%3D%3D?line=5'>6</a>\u001b[0m                           \u001b[39m# Colors\u001b[39;49;00m\n\u001b[0;32m      <a href='vscode-notebook-cell:/c%3A/Users/hlmq/code/tech-abstracts/code/general-nlp/Generate%20Wordclouds.ipynb#X13sZmlsZQ%3D%3D?line=6'>7</a>\u001b[0m                           \u001b[39m#colors='white',\u001b[39;49;00m\n\u001b[0;32m      <a href='vscode-notebook-cell:/c%3A/Users/hlmq/code/tech-abstracts/code/general-nlp/Generate%20Wordclouds.ipynb#X13sZmlsZQ%3D%3D?line=7'>8</a>\u001b[0m                           background_color\u001b[39m=\u001b[39;49m\u001b[39m'\u001b[39;49m\u001b[39mwhite\u001b[39;49m\u001b[39m'\u001b[39;49m,\n\u001b[0;32m      <a href='vscode-notebook-cell:/c%3A/Users/hlmq/code/tech-abstracts/code/general-nlp/Generate%20Wordclouds.ipynb#X13sZmlsZQ%3D%3D?line=8'>9</a>\u001b[0m                           palette\u001b[39m=\u001b[39;49mpalette,\n\u001b[0;32m     <a href='vscode-notebook-cell:/c%3A/Users/hlmq/code/tech-abstracts/code/general-nlp/Generate%20Wordclouds.ipynb#X13sZmlsZQ%3D%3D?line=9'>10</a>\u001b[0m \n\u001b[0;32m     <a href='vscode-notebook-cell:/c%3A/Users/hlmq/code/tech-abstracts/code/general-nlp/Generate%20Wordclouds.ipynb#X13sZmlsZQ%3D%3D?line=10'>11</a>\u001b[0m                           \u001b[39m# File\u001b[39;49;00m\n\u001b[0;32m     <a href='vscode-notebook-cell:/c%3A/Users/hlmq/code/tech-abstracts/code/general-nlp/Generate%20Wordclouds.ipynb#X13sZmlsZQ%3D%3D?line=11'>12</a>\u001b[0m                           output_name\u001b[39m=\u001b[39;49m\u001b[39mf\u001b[39;49m\u001b[39m'\u001b[39;49m\u001b[39mwordclouds/\u001b[39;49m\u001b[39m{\u001b[39;49;00myear\u001b[39m}\u001b[39;49;00m\u001b[39m.png\u001b[39;49m\u001b[39m'\u001b[39;49m,\n\u001b[0;32m     <a href='vscode-notebook-cell:/c%3A/Users/hlmq/code/tech-abstracts/code/general-nlp/Generate%20Wordclouds.ipynb#X13sZmlsZQ%3D%3D?line=12'>13</a>\u001b[0m                           collocations\u001b[39m=\u001b[39;49m\u001b[39mFalse\u001b[39;49;00m)\n",
      "File \u001b[1;32mc:\\ProgramData\\Miniconda3\\envs\\nlp_testing\\lib\\site-packages\\stylecloud\\stylecloud.py:216\u001b[0m, in \u001b[0;36mgen_stylecloud\u001b[1;34m(text, file_path, size, icon_name, palette, colors, background_color, max_font_size, max_words, stopwords, custom_stopwords, add_stopwords, icon_dir, output_name, gradient, font_path, random_state, collocations, invert_mask, pro_icon_path, pro_css_path)\u001b[0m\n\u001b[0;32m    213\u001b[0m \u001b[39massert\u001b[39;00m \u001b[39many\u001b[39m([text, file_path]), \u001b[39m\"\u001b[39m\u001b[39mEither text or file_path must be specified.\u001b[39m\u001b[39m\"\u001b[39m\n\u001b[0;32m    215\u001b[0m \u001b[39mif\u001b[39;00m file_path:\n\u001b[1;32m--> 216\u001b[0m     text \u001b[39m=\u001b[39m file_to_text(file_path)\n\u001b[0;32m    218\u001b[0m gen_fa_mask(icon_name, size, icon_dir, pro_icon_path, pro_css_path)\n\u001b[0;32m    220\u001b[0m \u001b[39mif\u001b[39;00m gradient \u001b[39mand\u001b[39;00m colors \u001b[39mis\u001b[39;00m \u001b[39mNone\u001b[39;00m:\n",
      "File \u001b[1;32mc:\\ProgramData\\Miniconda3\\envs\\nlp_testing\\lib\\site-packages\\stylecloud\\stylecloud.py:23\u001b[0m, in \u001b[0;36mfile_to_text\u001b[1;34m(file_path)\u001b[0m\n\u001b[0;32m     17\u001b[0m \u001b[39m\u001b[39m\u001b[39m\"\"\"\u001b[39;00m\n\u001b[0;32m     18\u001b[0m \u001b[39mReads a text file, or if the file is a .csv,\u001b[39;00m\n\u001b[0;32m     19\u001b[0m \u001b[39mread as a dict of word/weights.\u001b[39;00m\n\u001b[0;32m     20\u001b[0m \u001b[39m\"\"\"\u001b[39;00m\n\u001b[0;32m     22\u001b[0m \u001b[39mif\u001b[39;00m \u001b[39mnot\u001b[39;00m file_path\u001b[39m.\u001b[39mendswith(\u001b[39m\"\u001b[39m\u001b[39m.csv\u001b[39m\u001b[39m\"\u001b[39m):\n\u001b[1;32m---> 23\u001b[0m     \u001b[39mwith\u001b[39;00m \u001b[39mopen\u001b[39;49m(file_path, \u001b[39m\"\u001b[39;49m\u001b[39mr\u001b[39;49m\u001b[39m\"\u001b[39;49m, encoding\u001b[39m=\u001b[39;49m\u001b[39m\"\u001b[39;49m\u001b[39mutf-8\u001b[39;49m\u001b[39m\"\u001b[39;49m) \u001b[39mas\u001b[39;00m f:\n\u001b[0;32m     24\u001b[0m         text \u001b[39m=\u001b[39m f\u001b[39m.\u001b[39mread()\n\u001b[0;32m     25\u001b[0m     \u001b[39mreturn\u001b[39;00m text\n",
      "\u001b[1;31mFileNotFoundError\u001b[0m: [Errno 2] No such file or directory: 'C://Users//hlmq//OneDrive - Chevron//Desktop//Projects//Tech Abstracts//data//data-wordclouds//2015.txt'"
     ]
    }
   ],
   "source": [
    "\n",
    "file_path = f\"C://Users//hlmq//OneDrive - Chevron//Desktop//Projects//Tech Abstracts//data//data-wordclouds//{year}.txt\"\n",
    "\n",
    "stylecloud.gen_stylecloud(file_path=file_path,\n",
    "                          icon_name=icon,\n",
    "\n",
    "                          # Colors\n",
    "                          #colors='white',\n",
    "                          background_color='white',\n",
    "                          palette=palette,\n",
    "\n",
    "                          # File\n",
    "                          output_name=f'wordclouds/{year}.png',\n",
    "                          collocations=False)"
   ]
  },
  {
   "cell_type": "markdown",
   "metadata": {},
   "source": [
    "## Appendix"
   ]
  },
  {
   "cell_type": "code",
   "execution_count": null,
   "metadata": {},
   "outputs": [],
   "source": [
    "# Generate Word Clouds for Selected Abstracts\n",
    "for i in df['Name'].unique():\n",
    "\n",
    "    status = \"selected\"\n",
    "\n",
    "    INPUT_DATA_FILEPATH = f\"data-wordclouds/{status}_{i}.csv\"\n",
    "    OUTPUT_NAME = f\"wordclouds/{status}_{i}.csv\"\n",
    "\n",
    "    icon_name = \"fas fa-thumbs-up\"\n",
    "    palette = \"colorbrewer.sequential.Greens_9\"\n",
    "\n",
    "        # Generate word cloud\n",
    "    stylecloud.gen_stylecloud(file_path=INPUT_DATA_FILEPATH,\n",
    "                          icon_name=icon_name,\n",
    "\n",
    "                          # Colors\n",
    "                          background_color='white',\n",
    "                          palette=palette,\n",
    "                          # File\n",
    "                          output_name=OUTPUT_NAME,\n",
    "                          collocations=False,\n",
    "                          stopwords=stop_words)"
   ]
  },
  {
   "cell_type": "code",
   "execution_count": null,
   "metadata": {},
   "outputs": [],
   "source": [
    "def generate_wordcloud(status, topic):\n",
    "\n",
    "    print(status)\n",
    "    print(topic)\n",
    "\n",
    "    INPUT_DATA_FILEPATH = f\"data-wordclouds/{status}_{topic}.csv\"\n",
    "    OUTPUT_NAME = f\"wordclouds/{status}_{topic}.csv\"\n",
    "\n",
    "    print(f\"Generating Word Cloud on {INPUT_DATA_FILEPATH}\")\n",
    "\n",
    "    # Set some options\n",
    "    if status == 'selected':\n",
    "        icon_name = \"fas fa-thumbs-up\"\n",
    "        palette = \"colorbrewer.sequential.Greens_9\"\n",
    "\n",
    "    elif status == 'not_selected':\n",
    "        icon_name = \"fas fa-thumbs-down fa-flip-horizontal\"\n",
    "        palette = \"colorbrewer.sequential.Reds_9\"\n",
    "        \n",
    "    else:\n",
    "        print(\"Please enter a valid status -- 'rejected' or 'accepted'.\")\n",
    "        return\n",
    "\n",
    "    # Generate word cloud\n",
    "    stylecloud.gen_stylecloud(file_path=INPUT_DATA_FILEPATH,\n",
    "                          icon_name=icon_name,\n",
    "\n",
    "                          # Colors\n",
    "                          background_color='white',\n",
    "                          palette=palette,\n",
    "                          # File\n",
    "                          output_name=OUTPUT_NAME,\n",
    "                          collocations=False,\n",
    "                          stopwords=stop_words)"
   ]
  },
  {
   "cell_type": "code",
   "execution_count": null,
   "metadata": {},
   "outputs": [],
   "source": []
  }
 ],
 "metadata": {
  "kernelspec": {
   "display_name": "nlp_testing",
   "language": "python",
   "name": "python3"
  },
  "language_info": {
   "codemirror_mode": {
    "name": "ipython",
    "version": 3
   },
   "file_extension": ".py",
   "mimetype": "text/x-python",
   "name": "python",
   "nbconvert_exporter": "python",
   "pygments_lexer": "ipython3",
   "version": "3.9.5"
  },
  "orig_nbformat": 4
 },
 "nbformat": 4,
 "nbformat_minor": 2
}
